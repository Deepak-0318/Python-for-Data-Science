{
 "cells": [
  {
   "cell_type": "markdown",
   "id": "397367f8",
   "metadata": {},
   "source": [
    "File Handling"
   ]
  },
  {
   "cell_type": "markdown",
   "id": "396c44b7",
   "metadata": {},
   "source": [
    "Reading a file"
   ]
  },
  {
   "cell_type": "code",
   "execution_count": 1,
   "id": "b9209176",
   "metadata": {},
   "outputs": [
    {
     "name": "stdout",
     "output_type": "stream",
     "text": [
      "Hello , I'm Deepak \n",
      "\n",
      "I want to become a very famous and expert data scientist\n"
     ]
    }
   ],
   "source": [
    "file = open('test.txt', 'r')\n",
    "for line in file:\n",
    "    print(line)"
   ]
  },
  {
   "cell_type": "code",
   "execution_count": 2,
   "id": "0d4b1061",
   "metadata": {},
   "outputs": [
    {
     "name": "stdout",
     "output_type": "stream",
     "text": [
      "Hello , I'm Deepak \n",
      "I want to become a very famous and expert data scientist\n"
     ]
    }
   ],
   "source": [
    "file = open('test.txt', 'r')\n",
    "print(file.read())"
   ]
  },
  {
   "cell_type": "code",
   "execution_count": 6,
   "id": "98c8d461",
   "metadata": {},
   "outputs": [
    {
     "name": "stdout",
     "output_type": "stream",
     "text": [
      "Hello ,\n"
     ]
    }
   ],
   "source": [
    "file = open('test.txt', 'r')\n",
    "print(file.read(7))"
   ]
  },
  {
   "cell_type": "code",
   "execution_count": 8,
   "id": "7531eeae",
   "metadata": {},
   "outputs": [
    {
     "name": "stdout",
     "output_type": "stream",
     "text": [
      "Hello , I'm Deepak \n",
      "\n"
     ]
    }
   ],
   "source": [
    "file = open('test.txt', 'r')\n",
    "print(file.readline())  #returns the first line"
   ]
  },
  {
   "cell_type": "markdown",
   "id": "650deab9",
   "metadata": {},
   "source": [
    "Writing a file"
   ]
  },
  {
   "cell_type": "code",
   "execution_count": 10,
   "id": "8a5d2633",
   "metadata": {},
   "outputs": [
    {
     "data": {
      "text/plain": [
       "28"
      ]
     },
     "execution_count": 10,
     "metadata": {},
     "output_type": "execute_result"
    }
   ],
   "source": [
    "file = open('test.txt', 'w')\n",
    "file.write(\"This is a write operation\")\n",
    "file.write(\"Hello , Thanks for teaching \")"
   ]
  },
  {
   "cell_type": "code",
   "execution_count": 12,
   "id": "d230293a",
   "metadata": {},
   "outputs": [],
   "source": [
    "file = open('test.txt', 'w')\n",
    "file.write(\"This is a write operation\")\n",
    "file.write(\"Hello , Thanks for teaching \")\n",
    "file.close()"
   ]
  },
  {
   "cell_type": "code",
   "execution_count": 13,
   "id": "ec511965",
   "metadata": {},
   "outputs": [
    {
     "name": "stdout",
     "output_type": "stream",
     "text": [
      "This is a write operationHello , Thanks for teaching \n"
     ]
    }
   ],
   "source": [
    "file = open('test.txt', 'r')\n",
    "print(file.read())"
   ]
  },
  {
   "cell_type": "markdown",
   "id": "9200349b",
   "metadata": {},
   "source": [
    "Append Operation"
   ]
  },
  {
   "cell_type": "code",
   "execution_count": 14,
   "id": "c88a0b85",
   "metadata": {},
   "outputs": [
    {
     "name": "stdout",
     "output_type": "stream",
     "text": [
      "This is a write operation Hello , Thanks for teaching This is an append operation\n"
     ]
    }
   ],
   "source": [
    "with open('test.txt', 'a') as file:\n",
    "    file.write(\"This is an append operation\")\n",
    "file = open('test.txt', 'r')\n",
    "for line in file:\n",
    "    print(line)"
   ]
  },
  {
   "cell_type": "markdown",
   "id": "f50e0e23",
   "metadata": {},
   "source": [
    "\\n operation"
   ]
  },
  {
   "cell_type": "code",
   "execution_count": 16,
   "id": "38c776f5",
   "metadata": {},
   "outputs": [],
   "source": [
    "file = open('test.txt', 'w')\n",
    "file.write(\"This is a write operation\")\n",
    "file.write(\"\\n\")\n",
    "file.write(\"Hello , Thanks for teaching \")\n",
    "file.close()"
   ]
  },
  {
   "cell_type": "code",
   "execution_count": 17,
   "id": "9e620d2a",
   "metadata": {},
   "outputs": [
    {
     "name": "stdout",
     "output_type": "stream",
     "text": [
      "This is a write operation\n",
      "Hello , Thanks for teaching \n"
     ]
    }
   ],
   "source": [
    "file = open('test.txt', 'r')\n",
    "print(file.read())"
   ]
  },
  {
   "cell_type": "code",
   "execution_count": null,
   "id": "1b2c58a2",
   "metadata": {},
   "outputs": [],
   "source": []
  }
 ],
 "metadata": {
  "kernelspec": {
   "display_name": "Python 3",
   "language": "python",
   "name": "python3"
  },
  "language_info": {
   "codemirror_mode": {
    "name": "ipython",
    "version": 3
   },
   "file_extension": ".py",
   "mimetype": "text/x-python",
   "name": "python",
   "nbconvert_exporter": "python",
   "pygments_lexer": "ipython3",
   "version": "3.12.2"
  }
 },
 "nbformat": 4,
 "nbformat_minor": 5
}
