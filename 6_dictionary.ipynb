{
 "cells": [
  {
   "cell_type": "markdown",
   "id": "3a12cec8",
   "metadata": {},
   "source": [
    "Dictionary\n",
    "- Dictionary stores elements as keys and value pairs\n",
    "- The key is like an index, it always unique & immutable\n",
    "- The values are the objects that contain information\n",
    "- Values are accessed using their keys\n",
    "- Each key is followed by a value separated by colon\n",
    "- The values can be immutable , mutable and duplicates\n",
    "- Each key and value pair is separated by a comma enclosed inside curly brackets"
   ]
  },
  {
   "cell_type": "code",
   "execution_count": 3,
   "id": "b04e8b2c",
   "metadata": {},
   "outputs": [
    {
     "name": "stdout",
     "output_type": "stream",
     "text": [
      "INR\n",
      "3\n"
     ]
    }
   ],
   "source": [
    "#Creating a dictionary and accessing value using keys\n",
    "d1 = {\"India\": \"INR\", \"USA\": \"USD\", \"Hong Kong\":\"HKD\"}\n",
    "print(d1[\"India\"])\n",
    "print(len(d1))"
   ]
  },
  {
   "cell_type": "code",
   "execution_count": 6,
   "id": "78d932a9",
   "metadata": {},
   "outputs": [
    {
     "data": {
      "text/plain": [
       "{'India': 'INR', 'USA': 'USD', 'Hong Kong': 'HK$'}"
      ]
     },
     "execution_count": 6,
     "metadata": {},
     "output_type": "execute_result"
    }
   ],
   "source": [
    "#Replacing the value for a key in a dictionary\n",
    "d1[\"Hong Kong\"]=\"HK$\"\n",
    "d1"
   ]
  },
  {
   "cell_type": "code",
   "execution_count": 7,
   "id": "1c950946",
   "metadata": {},
   "outputs": [
    {
     "data": {
      "text/plain": [
       "{'India': 'INR', 'USA': 'USD', 'Hong Kong': 'HK$', 'Japan': 'YEN'}"
      ]
     },
     "execution_count": 7,
     "metadata": {},
     "output_type": "execute_result"
    }
   ],
   "source": [
    "#Inserting a new key value pair\n",
    "d1[\"Japan\"]=\"YEN\"\n",
    "d1"
   ]
  },
  {
   "cell_type": "code",
   "execution_count": 8,
   "id": "88b45885",
   "metadata": {},
   "outputs": [
    {
     "data": {
      "text/plain": [
       "{'India': 'INR', 'Hong Kong': 'HK$', 'Japan': 'YEN'}"
      ]
     },
     "execution_count": 8,
     "metadata": {},
     "output_type": "execute_result"
    }
   ],
   "source": [
    "#Deleting a key value pair\n",
    "del d1[\"USA\"]\n",
    "d1"
   ]
  },
  {
   "cell_type": "code",
   "execution_count": 9,
   "id": "28029849",
   "metadata": {},
   "outputs": [
    {
     "data": {
      "text/plain": [
       "['Hong Kong', 'India', 'Japan']"
      ]
     },
     "execution_count": 9,
     "metadata": {},
     "output_type": "execute_result"
    }
   ],
   "source": [
    "#Sorting\n",
    "sorted(d1)"
   ]
  },
  {
   "cell_type": "code",
   "execution_count": 10,
   "id": "f59da9e9",
   "metadata": {},
   "outputs": [
    {
     "data": {
      "text/plain": [
       "dict_values(['INR', 'HK$', 'YEN'])"
      ]
     },
     "execution_count": 10,
     "metadata": {},
     "output_type": "execute_result"
    }
   ],
   "source": [
    "#values method\n",
    "d1.values()"
   ]
  },
  {
   "cell_type": "code",
   "execution_count": 11,
   "id": "b88e6bd2",
   "metadata": {},
   "outputs": [
    {
     "data": {
      "text/plain": [
       "dict_keys(['India', 'Hong Kong', 'Japan'])"
      ]
     },
     "execution_count": 11,
     "metadata": {},
     "output_type": "execute_result"
    }
   ],
   "source": [
    "#keys() method\n",
    "d1.keys()"
   ]
  },
  {
   "cell_type": "code",
   "execution_count": 16,
   "id": "3b956202",
   "metadata": {},
   "outputs": [
    {
     "data": {
      "text/plain": [
       "'INR'"
      ]
     },
     "execution_count": 16,
     "metadata": {},
     "output_type": "execute_result"
    }
   ],
   "source": [
    "#get() method\n",
    "d1.get(\"India\")"
   ]
  },
  {
   "cell_type": "code",
   "execution_count": 18,
   "id": "0f869308",
   "metadata": {},
   "outputs": [
    {
     "data": {
      "text/plain": [
       "{'India': 'Rs', 'Hong Kong': 'HK$', 'Japan': 'YEN'}"
      ]
     },
     "execution_count": 18,
     "metadata": {},
     "output_type": "execute_result"
    }
   ],
   "source": [
    "#update() method\n",
    "d1.update({\"India\": \"Rs\"})\n",
    "d1"
   ]
  },
  {
   "cell_type": "code",
   "execution_count": null,
   "id": "b612687b",
   "metadata": {},
   "outputs": [],
   "source": [
    "#Question\n",
    "key - emp id  , value - name , age and profession"
   ]
  },
  {
   "cell_type": "code",
   "execution_count": 20,
   "id": "d5944594",
   "metadata": {},
   "outputs": [
    {
     "data": {
      "text/plain": [
       "{101: ['Shiva', 50, 'HR'],\n",
       " 102: ['Vivek', 30, 'Architect'],\n",
       " 103: ['Pavan', 29, 'DOctor'],\n",
       " 104: ['Veeresh', 33, 'Cyber Dept. Head']}"
      ]
     },
     "execution_count": 20,
     "metadata": {},
     "output_type": "execute_result"
    }
   ],
   "source": [
    "Employee_data = {101:[\"Shiva\", 50,\"HR\"], 102:[\"Vivek\",30, \"Architect\"], 103:[\"Pavan\", 29, \"DOctor\"], 104:[\"Veeresh\", 33 , \"Cyber Dept. Head\" ]}\n",
    "Employee_data"
   ]
  },
  {
   "cell_type": "code",
   "execution_count": 21,
   "id": "7ea6f6bb",
   "metadata": {},
   "outputs": [
    {
     "data": {
      "text/plain": [
       "'Cyber Dept. Head'"
      ]
     },
     "execution_count": 21,
     "metadata": {},
     "output_type": "execute_result"
    }
   ],
   "source": [
    "Employee_data[104][2]"
   ]
  },
  {
   "cell_type": "code",
   "execution_count": 22,
   "id": "1eaa209f",
   "metadata": {},
   "outputs": [
    {
     "data": {
      "text/plain": [
       "{'Python': 40}"
      ]
     },
     "execution_count": 22,
     "metadata": {},
     "output_type": "execute_result"
    }
   ],
   "source": [
    "#Question 2\n",
    "dict_1 = {\"Python\":40, \"R\":45}\n",
    "del dict_1[\"R\"]\n",
    "dict_1"
   ]
  },
  {
   "cell_type": "code",
   "execution_count": 23,
   "id": "f190c7ab",
   "metadata": {},
   "outputs": [
    {
     "name": "stdout",
     "output_type": "stream",
     "text": [
      "['Python', 'R']\n"
     ]
    }
   ],
   "source": [
    "d = {\"Python\":40, \"R\":45}\n",
    "print(list(d.keys()))"
   ]
  },
  {
   "cell_type": "code",
   "execution_count": 24,
   "id": "6083842c",
   "metadata": {},
   "outputs": [],
   "source": [
    "input_dict = {\"Name\": \"Monty\", \"Profession\":\"Singer\"}"
   ]
  },
  {
   "cell_type": "code",
   "execution_count": 25,
   "id": "8680e7e9",
   "metadata": {},
   "outputs": [],
   "source": [
    "input_dict[\"Label\"]=\"NA\""
   ]
  },
  {
   "cell_type": "code",
   "execution_count": 26,
   "id": "2ae48a37",
   "metadata": {},
   "outputs": [
    {
     "name": "stdout",
     "output_type": "stream",
     "text": [
      "NA\n"
     ]
    }
   ],
   "source": [
    "input_dict = {\"Name\": \"Monty\", \"Profession\":\"Singer\"}\n",
    "if \"Label\" in input_dict.keys():\n",
    "    print(input_dict[\"Label\"])\n",
    "else:\n",
    "    print(\"NA\")"
   ]
  },
  {
   "cell_type": "code",
   "execution_count": 27,
   "id": "eaad7349",
   "metadata": {},
   "outputs": [
    {
     "data": {
      "text/plain": [
       "['Amazon', 'Apple', 'JIO', 'Twitter']"
      ]
     },
     "execution_count": 27,
     "metadata": {},
     "output_type": "execute_result"
    }
   ],
   "source": [
    "#Q5\n",
    "input_dic = {\"Jack Dorsey\": \"Twitter\", \"Tim Cook\":\"Apple\", \"Jeff Bezos\":\"Amazon\", \"Ambani\":\"JIO\"}\n",
    "sorted(input_dic.values())"
   ]
  }
 ],
 "metadata": {
  "kernelspec": {
   "display_name": "Python 3",
   "language": "python",
   "name": "python3"
  },
  "language_info": {
   "codemirror_mode": {
    "name": "ipython",
    "version": 3
   },
   "file_extension": ".py",
   "mimetype": "text/x-python",
   "name": "python",
   "nbconvert_exporter": "python",
   "pygments_lexer": "ipython3",
   "version": "3.12.2"
  }
 },
 "nbformat": 4,
 "nbformat_minor": 5
}
