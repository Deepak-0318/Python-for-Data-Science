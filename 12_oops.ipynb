{
 "cells": [
  {
   "cell_type": "markdown",
   "id": "1d4177f9",
   "metadata": {},
   "source": [
    "Creating Classes and Objects"
   ]
  },
  {
   "cell_type": "markdown",
   "id": "77228fd4",
   "metadata": {},
   "source": [
    "Defining a class"
   ]
  },
  {
   "cell_type": "markdown",
   "id": "f6a304a2",
   "metadata": {},
   "source": [
    "1. Length and breaddth as attributes \n",
    "2. init() - constructor of  class\n",
    "3. self parameter - refers to the newly created instance of the class.\n",
    "4. attributes length and breadth are associated with self-keyword to identify them as instance variables."
   ]
  },
  {
   "cell_type": "code",
   "execution_count": null,
   "id": "c8e67217",
   "metadata": {},
   "outputs": [],
   "source": []
  }
 ],
 "metadata": {
  "language_info": {
   "name": "python"
  }
 },
 "nbformat": 4,
 "nbformat_minor": 5
}
