{
 "cells": [
  {
   "cell_type": "markdown",
   "id": "a2e726fb",
   "metadata": {},
   "source": [
    "equal to operator"
   ]
  },
  {
   "cell_type": "code",
   "execution_count": 1,
   "id": "8798b5d3",
   "metadata": {},
   "outputs": [
    {
     "data": {
      "text/plain": [
       "True"
      ]
     },
     "execution_count": 1,
     "metadata": {},
     "output_type": "execute_result"
    }
   ],
   "source": [
    "a = [1,2,30]\n",
    "12 == 12"
   ]
  },
  {
   "cell_type": "markdown",
   "id": "9bd15d24",
   "metadata": {},
   "source": [
    "= is an assignment operator , to assign value of an expression on right to a varibale on left"
   ]
  },
  {
   "cell_type": "markdown",
   "id": "b18a2995",
   "metadata": {},
   "source": [
    "not equal to operator"
   ]
  },
  {
   "cell_type": "code",
   "execution_count": 2,
   "id": "82d40fd6",
   "metadata": {},
   "outputs": [
    {
     "data": {
      "text/plain": [
       "True"
      ]
     },
     "execution_count": 2,
     "metadata": {},
     "output_type": "execute_result"
    }
   ],
   "source": [
    "10 != 5"
   ]
  },
  {
   "cell_type": "markdown",
   "id": "a35a3d6a",
   "metadata": {},
   "source": [
    "Decision Making"
   ]
  },
  {
   "cell_type": "markdown",
   "id": "83bc25f9",
   "metadata": {},
   "source": [
    "if-else blocks"
   ]
  },
  {
   "cell_type": "code",
   "execution_count": 3,
   "id": "4f0986a8",
   "metadata": {},
   "outputs": [
    {
     "name": "stdout",
     "output_type": "stream",
     "text": [
      "You are old\n"
     ]
    }
   ],
   "source": [
    "age = 51\n",
    "if age < 50:\n",
    "    print(\"You are young\")\n",
    "else:\n",
    "    print(\"You are old\")"
   ]
  },
  {
   "cell_type": "code",
   "execution_count": 7,
   "id": "324594b4",
   "metadata": {},
   "outputs": [
    {
     "name": "stdout",
     "output_type": "stream",
     "text": [
      "Odd\n"
     ]
    }
   ],
   "source": [
    "num = int(input(\"Enter a number: \"))\n",
    "if (num % 2) == 0:\n",
    "    print(\"Even\")\n",
    "else:\n",
    "    print(\"Odd\")"
   ]
  },
  {
   "cell_type": "code",
   "execution_count": null,
   "id": "feebe11e",
   "metadata": {},
   "outputs": [],
   "source": []
  }
 ],
 "metadata": {
  "kernelspec": {
   "display_name": "Python 3",
   "language": "python",
   "name": "python3"
  },
  "language_info": {
   "codemirror_mode": {
    "name": "ipython",
    "version": 3
   },
   "file_extension": ".py",
   "mimetype": "text/x-python",
   "name": "python",
   "nbconvert_exporter": "python",
   "pygments_lexer": "ipython3",
   "version": "3.12.2"
  }
 },
 "nbformat": 4,
 "nbformat_minor": 5
}
