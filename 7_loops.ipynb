{
 "cells": [
  {
   "cell_type": "markdown",
   "id": "1998a695",
   "metadata": {},
   "source": [
    "Loops & Iterations"
   ]
  },
  {
   "cell_type": "markdown",
   "id": "6d0d8903",
   "metadata": {},
   "source": [
    "Check whether a number is even or odd "
   ]
  },
  {
   "cell_type": "code",
   "execution_count": 1,
   "id": "07cb6b51",
   "metadata": {},
   "outputs": [
    {
     "name": "stdout",
     "output_type": "stream",
     "text": [
      "101 is an odd number\n"
     ]
    }
   ],
   "source": [
    "x = 101\n",
    "if x%2 == 0:\n",
    "    print(x, \"is an even number\")\n",
    "else:\n",
    "    print(x, \"is an odd number\")"
   ]
  },
  {
   "cell_type": "code",
   "execution_count": 4,
   "id": "dfe934cf",
   "metadata": {},
   "outputs": [
    {
     "name": "stdout",
     "output_type": "stream",
     "text": [
      "69 is an odd number\n"
     ]
    }
   ],
   "source": [
    "x1 = int(input(\"Enter your number: \"))\n",
    "if x1%2 == 0:\n",
    "    print(x1, \"is an even number\")\n",
    "else:\n",
    "    print(x1, \"is an odd number\")"
   ]
  },
  {
   "cell_type": "markdown",
   "id": "8a432054",
   "metadata": {},
   "source": [
    "Allow greater than 18 and less than 50 years of age"
   ]
  },
  {
   "cell_type": "code",
   "execution_count": 7,
   "id": "a3da9238",
   "metadata": {},
   "outputs": [
    {
     "name": "stdout",
     "output_type": "stream",
     "text": [
      "Your not eligible\n"
     ]
    }
   ],
   "source": [
    "x2 = int(input(\"Enter your age: \"))\n",
    "if x2>18 and x2<50:\n",
    "    print(\"You can enter\")\n",
    "else:\n",
    "    print(\"Your not eligible\")"
   ]
  },
  {
   "cell_type": "markdown",
   "id": "0287491a",
   "metadata": {},
   "source": [
    "Program to provide discounts/offers"
   ]
  },
  {
   "cell_type": "code",
   "execution_count": 2,
   "id": "a26c7ce6",
   "metadata": {},
   "outputs": [
    {
     "name": "stdout",
     "output_type": "stream",
     "text": [
      "You have won a voucher of 500$\n"
     ]
    }
   ],
   "source": [
    "shop_amount= int(input(\"Input your billed amount: \"))\n",
    "if shop_amount >= 5000:\n",
    "    print(\"You have won a vouher of 1000$\")\n",
    "elif shop_amount >= 2500:\n",
    "    print(\"You have won a voucher of 500$\")\n",
    "else:\n",
    "    print(\"Thank you for visiting us\")"
   ]
  },
  {
   "cell_type": "markdown",
   "id": "a2fda269",
   "metadata": {},
   "source": [
    "Iterations"
   ]
  },
  {
   "cell_type": "code",
   "execution_count": 3,
   "id": "013bc51f",
   "metadata": {},
   "outputs": [
    {
     "name": "stdout",
     "output_type": "stream",
     "text": [
      "10\n",
      "20\n",
      "30\n",
      "40\n",
      "50\n"
     ]
    }
   ],
   "source": [
    "##Iterate over a list of integers\n",
    "l1 = [10,20,30,40,50]\n",
    "for i in l1:\n",
    "    print(i)"
   ]
  },
  {
   "cell_type": "code",
   "execution_count": 5,
   "id": "3c661a12",
   "metadata": {},
   "outputs": [
    {
     "name": "stdout",
     "output_type": "stream",
     "text": [
      "A\n",
      "P\n",
      "D\n",
      "S\n"
     ]
    }
   ],
   "source": [
    "#Iterate over the string\n",
    "s1 = \"A\", \"P\",\"D\",\"S\"\n",
    "for i in s1:\n",
    "    print(i)"
   ]
  },
  {
   "cell_type": "code",
   "execution_count": 6,
   "id": "f59026cf",
   "metadata": {},
   "outputs": [
    {
     "name": "stdout",
     "output_type": "stream",
     "text": [
      "D\n",
      "e\n",
      "e\n",
      "p\n",
      "a\n",
      "k\n"
     ]
    }
   ],
   "source": [
    "s2 = \"Deepak\"\n",
    "for i in s2:\n",
    "    print(i)"
   ]
  },
  {
   "cell_type": "code",
   "execution_count": 9,
   "id": "f69b8835",
   "metadata": {},
   "outputs": [
    {
     "name": "stdout",
     "output_type": "stream",
     "text": [
      "1\n",
      "2\n",
      "3\n"
     ]
    }
   ],
   "source": [
    "#Iterate over a dictionary - keys\n",
    "student_data = {1:[\"Deepak\",19], 2:[\"Vivek\",17],3:[\"Pavan\",17]}\n",
    "for i in student_data:\n",
    "    print(i)"
   ]
  },
  {
   "cell_type": "code",
   "execution_count": null,
   "id": "431f00fa",
   "metadata": {},
   "outputs": [
    {
     "name": "stdout",
     "output_type": "stream",
     "text": [
      "(1, ['Deepak', 19])\n",
      "(2, ['Vivek', 17])\n",
      "(3, ['Pavan', 17])\n"
     ]
    }
   ],
   "source": [
    "#Iterate over a dictionary \n",
    "student_data = {1:[\"Deepak\",19], 2:[\"Vivek\",17],3:[\"Pavan\",17]}\n",
    "for i in student_data.items():\n",
    "    print(i)"
   ]
  },
  {
   "cell_type": "code",
   "execution_count": 11,
   "id": "373fd0b8",
   "metadata": {},
   "outputs": [
    {
     "name": "stdout",
     "output_type": "stream",
     "text": [
      "['Deepak', 19]\n",
      "['Vivek', 17]\n",
      "['Pavan', 17]\n"
     ]
    }
   ],
   "source": [
    "#Iterate over a dictionary \n",
    "student_data = {1:[\"Deepak\",19], 2:[\"Vivek\",17],3:[\"Pavan\",17]}\n",
    "for i,j in student_data.items():\n",
    "    print(j)"
   ]
  },
  {
   "cell_type": "code",
   "execution_count": 12,
   "id": "a0927251",
   "metadata": {},
   "outputs": [
    {
     "name": "stdout",
     "output_type": "stream",
     "text": [
      "1\n",
      "2\n",
      "3\n",
      "4\n"
     ]
    }
   ],
   "source": [
    "#Iterate over a range of values\n",
    "for i in range(1,5):\n",
    "    print(i)"
   ]
  },
  {
   "cell_type": "markdown",
   "id": "b541bd2d",
   "metadata": {},
   "source": [
    "Comphresion"
   ]
  },
  {
   "cell_type": "code",
   "execution_count": 13,
   "id": "869a5f18",
   "metadata": {},
   "outputs": [
    {
     "name": "stdout",
     "output_type": "stream",
     "text": [
      "[11, 5, 4, 3]\n"
     ]
    }
   ],
   "source": [
    "l2 = [\"Automobiles\", \"Honda\",\"benz\",\"kia\"]\n",
    "l3=[len(i) for i in l2]\n",
    "print(l3)"
   ]
  },
  {
   "cell_type": "code",
   "execution_count": 14,
   "id": "f4b4b7f5",
   "metadata": {},
   "outputs": [
    {
     "name": "stdout",
     "output_type": "stream",
     "text": [
      "['Automobiles', 'Honda', 'benz', 'kia']\n"
     ]
    }
   ],
   "source": [
    "l2 = [\"Automobiles\", \"Honda\",\"benz\",\"kia\"]\n",
    "l3=[i for i in l2]\n",
    "print(l3)"
   ]
  },
  {
   "cell_type": "code",
   "execution_count": null,
   "id": "97491475",
   "metadata": {},
   "outputs": [],
   "source": []
  }
 ],
 "metadata": {
  "kernelspec": {
   "display_name": "Python 3",
   "language": "python",
   "name": "python3"
  },
  "language_info": {
   "codemirror_mode": {
    "name": "ipython",
    "version": 3
   },
   "file_extension": ".py",
   "mimetype": "text/x-python",
   "name": "python",
   "nbconvert_exporter": "python",
   "pygments_lexer": "ipython3",
   "version": "3.12.2"
  }
 },
 "nbformat": 4,
 "nbformat_minor": 5
}
