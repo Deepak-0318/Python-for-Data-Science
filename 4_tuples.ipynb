{
 "cells": [
  {
   "cell_type": "markdown",
   "id": "41ac3507",
   "metadata": {},
   "source": [
    "Tuples\n",
    "- Tuples are ordered sequence of mixed data types\n",
    "-Tuples are written in comma separated elements within parenthesis"
   ]
  },
  {
   "cell_type": "code",
   "execution_count": 2,
   "id": "e2a4027b",
   "metadata": {},
   "outputs": [
    {
     "name": "stdout",
     "output_type": "stream",
     "text": [
      "<class 'tuple'>\n"
     ]
    }
   ],
   "source": [
    "t = (1,2, 3,4)\n",
    "print(type(t))"
   ]
  },
  {
   "cell_type": "code",
   "execution_count": 3,
   "id": "3d2998f5",
   "metadata": {},
   "outputs": [
    {
     "name": "stdout",
     "output_type": "stream",
     "text": [
      "<class 'tuple'>\n",
      "3\n"
     ]
    }
   ],
   "source": [
    "t1 = (\"hello\", 5, 5.5)\n",
    "print(type(t1))\n",
    "print(len(t1))"
   ]
  },
  {
   "cell_type": "markdown",
   "id": "4cd76867",
   "metadata": {},
   "source": [
    "List inside tuple, a tuple can also have tuple as an element inside it "
   ]
  },
  {
   "cell_type": "code",
   "execution_count": 9,
   "id": "72b1195d",
   "metadata": {},
   "outputs": [
    {
     "name": "stdout",
     "output_type": "stream",
     "text": [
      "<class 'int'>\n"
     ]
    }
   ],
   "source": [
    "t2 = (\"hello\", 3, [1, 4])\n",
    "print(type(t2[2][-1]))"
   ]
  },
  {
   "cell_type": "code",
   "execution_count": 5,
   "id": "6052db64",
   "metadata": {},
   "outputs": [
    {
     "name": "stdout",
     "output_type": "stream",
     "text": [
      "(1, 2, 3, (4, 5))\n"
     ]
    }
   ],
   "source": [
    "t3 = (1, 2, 3, (4, 5,))\n",
    "print(t3)"
   ]
  },
  {
   "cell_type": "code",
   "execution_count": 10,
   "id": "a570d00c",
   "metadata": {},
   "outputs": [
    {
     "name": "stdout",
     "output_type": "stream",
     "text": [
      "<class 'tuple'>\n"
     ]
    }
   ],
   "source": [
    "# Important point \n",
    "t4 = 1.2,\n",
    "print(type(t4))"
   ]
  },
  {
   "cell_type": "markdown",
   "id": "a16e3298",
   "metadata": {},
   "source": [
    "Indexing in Tuple"
   ]
  },
  {
   "cell_type": "code",
   "execution_count": 11,
   "id": "8870a077",
   "metadata": {},
   "outputs": [
    {
     "data": {
      "text/plain": [
       "4"
      ]
     },
     "execution_count": 11,
     "metadata": {},
     "output_type": "execute_result"
    }
   ],
   "source": [
    "t = (\"Mumbai\", 10 , \"Python\", 100)\n",
    "len(t)"
   ]
  },
  {
   "cell_type": "code",
   "execution_count": 12,
   "id": "c66932f1",
   "metadata": {},
   "outputs": [
    {
     "data": {
      "text/plain": [
       "('Python', 100)"
      ]
     },
     "execution_count": 12,
     "metadata": {},
     "output_type": "execute_result"
    }
   ],
   "source": [
    "t[2:]"
   ]
  },
  {
   "cell_type": "markdown",
   "id": "6acac8d4",
   "metadata": {},
   "source": [
    "Concatenation of Tuples"
   ]
  },
  {
   "cell_type": "code",
   "execution_count": 14,
   "id": "ccbda291",
   "metadata": {},
   "outputs": [
    {
     "data": {
      "text/plain": [
       "'Hello!My name is Deepak'"
      ]
     },
     "execution_count": 14,
     "metadata": {},
     "output_type": "execute_result"
    }
   ],
   "source": [
    "tup1 = (\"Hello!\")\n",
    "tup2 = (\"My name is Deepak\")\n",
    "tup = tup1+tup2\n",
    "tup"
   ]
  },
  {
   "cell_type": "markdown",
   "id": "b58372a2",
   "metadata": {},
   "source": [
    "Min , Max and Sum functions"
   ]
  },
  {
   "cell_type": "code",
   "execution_count": 15,
   "id": "cc16de40",
   "metadata": {},
   "outputs": [
    {
     "name": "stdout",
     "output_type": "stream",
     "text": [
      "31.5\n",
      "11.5\n",
      "10\n"
     ]
    }
   ],
   "source": [
    "tup = (10, 10, 11.5)\n",
    "print(sum(tup))\n",
    "print(max(tup))\n",
    "print(min(tup))"
   ]
  },
  {
   "cell_type": "markdown",
   "id": "840ae676",
   "metadata": {},
   "source": [
    "Immutability -  cannot change the elements in tuples\n"
   ]
  },
  {
   "cell_type": "code",
   "execution_count": 16,
   "id": "601ada00",
   "metadata": {},
   "outputs": [
    {
     "name": "stdout",
     "output_type": "stream",
     "text": [
      "('Hello', 'Welcome', 'world')\n"
     ]
    }
   ],
   "source": [
    "#How to update the 2nd and 3rd element\n",
    "t = (\"Hello\", \"Welcome\", 5, 10 , \"world\")\n",
    "new_tuple=t[0:2]+t[-1:]\n",
    "print(new_tuple)"
   ]
  },
  {
   "cell_type": "markdown",
   "id": "37aaf1c1",
   "metadata": {},
   "source": [
    "Sorting of tuple"
   ]
  },
  {
   "cell_type": "code",
   "execution_count": 17,
   "id": "d15fbf71",
   "metadata": {},
   "outputs": [
    {
     "name": "stdout",
     "output_type": "stream",
     "text": [
      "[1, 2, 3, 5, 6]\n",
      "<class 'list'>\n"
     ]
    }
   ],
   "source": [
    "t = (2, 5 , 1, 6, 3)\n",
    "new_var = sorted(t)\n",
    "print(new_var)\n",
    "print(type(new_var))"
   ]
  },
  {
   "cell_type": "code",
   "execution_count": 18,
   "id": "27b8308b",
   "metadata": {},
   "outputs": [
    {
     "data": {
      "text/plain": [
       "[1, 2, 3, 5, 6]"
      ]
     },
     "execution_count": 18,
     "metadata": {},
     "output_type": "execute_result"
    }
   ],
   "source": [
    "new_list = sorted(t)\n",
    "new_list"
   ]
  },
  {
   "cell_type": "code",
   "execution_count": 20,
   "id": "a18b55cf",
   "metadata": {},
   "outputs": [
    {
     "data": {
      "text/plain": [
       "(1, 2, 3, 5, 6)"
      ]
     },
     "execution_count": 20,
     "metadata": {},
     "output_type": "execute_result"
    }
   ],
   "source": [
    "t2 = tuple(new_list)\n",
    "t2"
   ]
  },
  {
   "cell_type": "code",
   "execution_count": 21,
   "id": "559af790",
   "metadata": {},
   "outputs": [
    {
     "ename": "IndexError",
     "evalue": "tuple index out of range",
     "output_type": "error",
     "traceback": [
      "\u001b[31m---------------------------------------------------------------------------\u001b[39m",
      "\u001b[31mIndexError\u001b[39m                                Traceback (most recent call last)",
      "\u001b[36mCell\u001b[39m\u001b[36m \u001b[39m\u001b[32mIn[21]\u001b[39m\u001b[32m, line 3\u001b[39m\n\u001b[32m      1\u001b[39m \u001b[38;5;66;03m#question\u001b[39;00m\n\u001b[32m      2\u001b[39m t = (\u001b[32m1\u001b[39m,\u001b[32m2\u001b[39m, \u001b[32m3\u001b[39m, \u001b[32m5\u001b[39m)\n\u001b[32m----> \u001b[39m\u001b[32m3\u001b[39m \u001b[43mt\u001b[49m\u001b[43m[\u001b[49m\u001b[32;43m4\u001b[39;49m\u001b[43m]\u001b[49m\n",
      "\u001b[31mIndexError\u001b[39m: tuple index out of range"
     ]
    }
   ],
   "source": [
    "#question\n",
    "t = (1,2, 3, 5)\n",
    "t[4]"
   ]
  },
  {
   "cell_type": "code",
   "execution_count": null,
   "id": "a9900a3a",
   "metadata": {},
   "outputs": [],
   "source": []
  }
 ],
 "metadata": {
  "kernelspec": {
   "display_name": "Python 3",
   "language": "python",
   "name": "python3"
  },
  "language_info": {
   "codemirror_mode": {
    "name": "ipython",
    "version": 3
   },
   "file_extension": ".py",
   "mimetype": "text/x-python",
   "name": "python",
   "nbconvert_exporter": "python",
   "pygments_lexer": "ipython3",
   "version": "3.12.2"
  }
 },
 "nbformat": 4,
 "nbformat_minor": 5
}
