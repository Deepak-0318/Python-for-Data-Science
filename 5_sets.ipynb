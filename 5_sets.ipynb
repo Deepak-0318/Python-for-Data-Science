{
 "cells": [
  {
   "cell_type": "markdown",
   "id": "4aba38c7",
   "metadata": {},
   "source": [
    "Sets\n",
    "- Sets are type of collection like lists , tuples storing mixed data.\n",
    "- Sets are enclosed within curly brackets and elements are written as comma-separated.\n",
    "- Sets are unordered\n",
    "- Sets does not allow duplicates"
   ]
  },
  {
   "cell_type": "code",
   "execution_count": 2,
   "id": "87388f03",
   "metadata": {},
   "outputs": [
    {
     "data": {
      "text/plain": [
       "12"
      ]
     },
     "execution_count": 2,
     "metadata": {},
     "output_type": "execute_result"
    }
   ],
   "source": [
    "l6 = [ 1, 2, 2, 3, 4,5, 6,6 ,7, 8, 9, 8]\n",
    "len(l6)"
   ]
  },
  {
   "cell_type": "code",
   "execution_count": 4,
   "id": "dda7381f",
   "metadata": {},
   "outputs": [
    {
     "data": {
      "text/plain": [
       "9"
      ]
     },
     "execution_count": 4,
     "metadata": {},
     "output_type": "execute_result"
    }
   ],
   "source": [
    "set1 = set(l6)\n",
    "len(set1)"
   ]
  },
  {
   "cell_type": "code",
   "execution_count": 5,
   "id": "1ba2aace",
   "metadata": {},
   "outputs": [
    {
     "data": {
      "text/plain": [
       "{1, 2, 3, 4, 5, 6, 7, 8, 9}"
      ]
     },
     "execution_count": 5,
     "metadata": {},
     "output_type": "execute_result"
    }
   ],
   "source": [
    "set1"
   ]
  },
  {
   "cell_type": "code",
   "execution_count": 6,
   "id": "cd71b37b",
   "metadata": {},
   "outputs": [
    {
     "name": "stdout",
     "output_type": "stream",
     "text": [
      "{1, 2.3, 5, 6, 'india'}\n"
     ]
    }
   ],
   "source": [
    "set2={1, 2.3, 5 ,6}\n",
    "set2.add(\"india\")\n",
    "print(set2)"
   ]
  },
  {
   "cell_type": "code",
   "execution_count": 7,
   "id": "2aa4b2df",
   "metadata": {},
   "outputs": [
    {
     "name": "stdout",
     "output_type": "stream",
     "text": [
      "{1, 5, 6, 'india'}\n"
     ]
    }
   ],
   "source": [
    "set2.remove(2.3)\n",
    "print(set2)"
   ]
  },
  {
   "cell_type": "markdown",
   "id": "5b91d3ff",
   "metadata": {},
   "source": [
    "Set Operations"
   ]
  },
  {
   "cell_type": "code",
   "execution_count": 9,
   "id": "97deb19f",
   "metadata": {},
   "outputs": [],
   "source": [
    "A = {0,2,4,6,8}\n",
    "B={1,2,3,4,5,7,9}"
   ]
  },
  {
   "cell_type": "code",
   "execution_count": 11,
   "id": "6c43d2c1",
   "metadata": {},
   "outputs": [
    {
     "name": "stdout",
     "output_type": "stream",
     "text": [
      "{0, 1, 2, 3, 4, 5, 6, 7, 8, 9}\n",
      "{0, 1, 2, 3, 4, 5, 6, 7, 8, 9}\n",
      "10\n"
     ]
    }
   ],
   "source": [
    "#Union\n",
    "print(A|B)\n",
    "print(A.union(B))\n",
    "print(len(A.union(B)))"
   ]
  },
  {
   "cell_type": "code",
   "execution_count": 12,
   "id": "33f8c4f2",
   "metadata": {},
   "outputs": [
    {
     "name": "stdout",
     "output_type": "stream",
     "text": [
      "{2, 4}\n",
      "{2, 4}\n",
      "2\n"
     ]
    }
   ],
   "source": [
    "#Intersection\n",
    "print(A&B)\n",
    "print(A.intersection(B))\n",
    "print(len(A&B))"
   ]
  },
  {
   "cell_type": "code",
   "execution_count": 17,
   "id": "903d4ef8",
   "metadata": {},
   "outputs": [
    {
     "name": "stdout",
     "output_type": "stream",
     "text": [
      "{3, 4, 5, 6}\n",
      "{3, 4, 5, 6}\n"
     ]
    }
   ],
   "source": [
    "#Difference\n",
    "print(A-B)\n",
    "print(A.difference(B))"
   ]
  },
  {
   "cell_type": "code",
   "execution_count": 13,
   "id": "e9278f11",
   "metadata": {},
   "outputs": [
    {
     "name": "stdout",
     "output_type": "stream",
     "text": [
      "{0, 1, 3, 5, 6, 7, 8, 9}\n"
     ]
    }
   ],
   "source": [
    "#Symmetric Difference \n",
    "print(A^B)"
   ]
  },
  {
   "cell_type": "code",
   "execution_count": 15,
   "id": "f5bb1419",
   "metadata": {},
   "outputs": [
    {
     "name": "stdout",
     "output_type": "stream",
     "text": [
      "{1, 3, 4, 5, 6, 7}\n",
      "{1, 2, 3, 5, 7}\n",
      "[1, 3, 5, 7]\n"
     ]
    }
   ],
   "source": [
    "#Question \n",
    "A=[5,1,3,4,4,5,6,7]\n",
    "B=[3,3,5,5,1,7,2]\n",
    "A1=set(A)\n",
    "print(A1)\n",
    "B1=set(B)\n",
    "print(B1)\n",
    "common = sorted(A1&B1)\n",
    "print(common)"
   ]
  },
  {
   "cell_type": "code",
   "execution_count": 16,
   "id": "52b9c2e7",
   "metadata": {},
   "outputs": [
    {
     "name": "stdout",
     "output_type": "stream",
     "text": [
      "{0, 3, 4, 5, 6, 10, 11}\n"
     ]
    }
   ],
   "source": [
    "#Question\n",
    "A = {1,2,3,4,5,6}\n",
    "B={0,1,2,10,11}\n",
    "d1 = (A.union(B))\n",
    "d2 = (A.intersection(B))\n",
    "d = d1 - d2\n",
    "print(d)"
   ]
  },
  {
   "cell_type": "code",
   "execution_count": null,
   "id": "aeb83b2b",
   "metadata": {},
   "outputs": [],
   "source": []
  }
 ],
 "metadata": {
  "kernelspec": {
   "display_name": "Python 3",
   "language": "python",
   "name": "python3"
  },
  "language_info": {
   "codemirror_mode": {
    "name": "ipython",
    "version": 3
   },
   "file_extension": ".py",
   "mimetype": "text/x-python",
   "name": "python",
   "nbconvert_exporter": "python",
   "pygments_lexer": "ipython3",
   "version": "3.12.2"
  }
 },
 "nbformat": 4,
 "nbformat_minor": 5
}
