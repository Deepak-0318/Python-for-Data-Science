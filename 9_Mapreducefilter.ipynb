{
 "cells": [
  {
   "cell_type": "markdown",
   "id": "3ba7d146",
   "metadata": {},
   "source": [
    "Map, Reduce , Filter"
   ]
  },
  {
   "cell_type": "markdown",
   "id": "899c6d04",
   "metadata": {},
   "source": [
    "Area of a circle"
   ]
  },
  {
   "cell_type": "code",
   "execution_count": 4,
   "id": "a62e36e9",
   "metadata": {},
   "outputs": [
    {
     "name": "stdout",
     "output_type": "stream",
     "text": [
      "[3.141592653589793, 12.566370614359172, 28.274333882308138, 50.26548245743669, 78.53981633974483]\n"
     ]
    }
   ],
   "source": [
    "import math\n",
    "def area(n):\n",
    "    return math.pi * n * n\n",
    "radii = [1,2,3,4,5]\n",
    "areas = []\n",
    "for r in radii:\n",
    "    a = area(r)\n",
    "    areas.append(a)\n",
    "print(areas)"
   ]
  },
  {
   "cell_type": "code",
   "execution_count": 5,
   "id": "d279d535",
   "metadata": {},
   "outputs": [
    {
     "data": {
      "text/plain": [
       "[3.141592653589793,\n",
       " 12.566370614359172,\n",
       " 28.274333882308138,\n",
       " 50.26548245743669,\n",
       " 78.53981633974483]"
      ]
     },
     "execution_count": 5,
     "metadata": {},
     "output_type": "execute_result"
    }
   ],
   "source": [
    "##map(f, iterable)\n",
    "map(area, radii)\n",
    "list(map(area, radii))"
   ]
  },
  {
   "cell_type": "markdown",
   "id": "6e08e76a",
   "metadata": {},
   "source": [
    "Convert Celcius scale to farheneit\n",
    "F = 9/5*C + 32"
   ]
  },
  {
   "cell_type": "code",
   "execution_count": 6,
   "id": "fd5eb818",
   "metadata": {},
   "outputs": [
    {
     "data": {
      "text/plain": [
       "<map at 0x1c81e1f7220>"
      ]
     },
     "execution_count": 6,
     "metadata": {},
     "output_type": "execute_result"
    }
   ],
   "source": [
    "temps = [(\"Mumbai\", 35), (\"Delhi\", 30), (\"Bangalore\", 25)]\n",
    "cel_to_f = lambda data: (data[0], 9/5 * data[1] + 32)\n",
    "map(cel_to_f, temps)"
   ]
  },
  {
   "cell_type": "code",
   "execution_count": 7,
   "id": "ad6924ab",
   "metadata": {},
   "outputs": [
    {
     "data": {
      "text/plain": [
       "[('Mumbai', 95.0), ('Delhi', 86.0), ('Bangalore', 77.0)]"
      ]
     },
     "execution_count": 7,
     "metadata": {},
     "output_type": "execute_result"
    }
   ],
   "source": [
    "list(map(cel_to_f, temps))"
   ]
  },
  {
   "cell_type": "markdown",
   "id": "27cca181",
   "metadata": {},
   "source": [
    "Filter function - filters out the data"
   ]
  },
  {
   "cell_type": "markdown",
   "id": "45e05d75",
   "metadata": {},
   "source": [
    "filter(f, data)"
   ]
  },
  {
   "cell_type": "code",
   "execution_count": 8,
   "id": "a2adfbac",
   "metadata": {},
   "outputs": [
    {
     "name": "stdout",
     "output_type": "stream",
     "text": [
      "5.5\n"
     ]
    }
   ],
   "source": [
    "import statistics\n",
    "data = [1, 2, 3, 4, 5, 6, 7, 8, 9, 10]\n",
    "avg = statistics.mean(data)\n",
    "print(avg)"
   ]
  },
  {
   "cell_type": "code",
   "execution_count": 9,
   "id": "2c9c8fc8",
   "metadata": {},
   "outputs": [
    {
     "data": {
      "text/plain": [
       "<filter at 0x1c81e1e5330>"
      ]
     },
     "execution_count": 9,
     "metadata": {},
     "output_type": "execute_result"
    }
   ],
   "source": [
    "filter(lambda x: x > avg, data)"
   ]
  },
  {
   "cell_type": "code",
   "execution_count": 10,
   "id": "c3a02bbe",
   "metadata": {},
   "outputs": [
    {
     "data": {
      "text/plain": [
       "[6, 7, 8, 9, 10]"
      ]
     },
     "execution_count": 10,
     "metadata": {},
     "output_type": "execute_result"
    }
   ],
   "source": [
    "list(filter(lambda x: x > avg, data))"
   ]
  },
  {
   "cell_type": "code",
   "execution_count": 11,
   "id": "14f2711e",
   "metadata": {},
   "outputs": [
    {
     "data": {
      "text/plain": [
       "<filter at 0x1c81e1f42e0>"
      ]
     },
     "execution_count": 11,
     "metadata": {},
     "output_type": "execute_result"
    }
   ],
   "source": [
    "filter(lambda x: x > 10, areas)"
   ]
  },
  {
   "cell_type": "code",
   "execution_count": 12,
   "id": "40673a8d",
   "metadata": {},
   "outputs": [
    {
     "data": {
      "text/plain": [
       "[12.566370614359172, 28.274333882308138, 50.26548245743669, 78.53981633974483]"
      ]
     },
     "execution_count": 12,
     "metadata": {},
     "output_type": "execute_result"
    }
   ],
   "source": [
    "list(filter(lambda x: x> 10, areas))"
   ]
  },
  {
   "cell_type": "markdown",
   "id": "11634a14",
   "metadata": {},
   "source": [
    "Getting rid of NULL values"
   ]
  },
  {
   "cell_type": "code",
   "execution_count": 13,
   "id": "4fb90d8d",
   "metadata": {},
   "outputs": [
    {
     "data": {
      "text/plain": [
       "['Deepak', 'Apex', 'Boss']"
      ]
     },
     "execution_count": 13,
     "metadata": {},
     "output_type": "execute_result"
    }
   ],
   "source": [
    "name = [\"Deepak\", \"Apex\", 0 , 0.0, \"Boss\"]\n",
    "filter(None, name)\n",
    "list(filter(None, name))"
   ]
  },
  {
   "cell_type": "markdown",
   "id": "63e7b084",
   "metadata": {},
   "source": [
    "Reduce Function "
   ]
  },
  {
   "cell_type": "markdown",
   "id": "1b38e5b1",
   "metadata": {},
   "source": [
    "reduce (f,data)"
   ]
  },
  {
   "cell_type": "code",
   "execution_count": 14,
   "id": "77b91284",
   "metadata": {},
   "outputs": [],
   "source": [
    "from functools import reduce"
   ]
  },
  {
   "cell_type": "code",
   "execution_count": 15,
   "id": "1c299635",
   "metadata": {},
   "outputs": [
    {
     "data": {
      "text/plain": [
       "120"
      ]
     },
     "execution_count": 15,
     "metadata": {},
     "output_type": "execute_result"
    }
   ],
   "source": [
    "data = [1, 2, 3, 4, 5]\n",
    "multiply = lambda x, y: x * y\n",
    "reduce(multiply, data)"
   ]
  },
  {
   "cell_type": "code",
   "execution_count": 16,
   "id": "44563d77",
   "metadata": {},
   "outputs": [
    {
     "data": {
      "text/plain": [
       "15"
      ]
     },
     "execution_count": 16,
     "metadata": {},
     "output_type": "execute_result"
    }
   ],
   "source": [
    "data = [1, 2, 3, 4, 5]\n",
    "reduce(lambda x, y: x + y, data)"
   ]
  }
 ],
 "metadata": {
  "kernelspec": {
   "display_name": "Python 3",
   "language": "python",
   "name": "python3"
  },
  "language_info": {
   "codemirror_mode": {
    "name": "ipython",
    "version": 3
   },
   "file_extension": ".py",
   "mimetype": "text/x-python",
   "name": "python",
   "nbconvert_exporter": "python",
   "pygments_lexer": "ipython3",
   "version": "3.12.2"
  }
 },
 "nbformat": 4,
 "nbformat_minor": 5
}
