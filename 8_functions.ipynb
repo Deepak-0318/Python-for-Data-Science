{
 "cells": [
  {
   "cell_type": "markdown",
   "id": "8877a54d",
   "metadata": {},
   "source": [
    "Even or odd"
   ]
  },
  {
   "cell_type": "code",
   "execution_count": 1,
   "id": "cb9a3926",
   "metadata": {},
   "outputs": [
    {
     "name": "stdout",
     "output_type": "stream",
     "text": [
      "Odd\n"
     ]
    }
   ],
   "source": [
    "def evenandodd(num):\n",
    "    if num%2 == 0:\n",
    "        print(\"Even\")\n",
    "    else:\n",
    "        print(\"Odd\")\n",
    "evenandodd(5)"
   ]
  },
  {
   "cell_type": "markdown",
   "id": "0f99a6ae",
   "metadata": {},
   "source": [
    "Factorial"
   ]
  },
  {
   "cell_type": "code",
   "execution_count": 8,
   "id": "d464dc75",
   "metadata": {},
   "outputs": [
    {
     "data": {
      "text/plain": [
       "120"
      ]
     },
     "execution_count": 8,
     "metadata": {},
     "output_type": "execute_result"
    }
   ],
   "source": [
    "def factorial(x):\n",
    "    fact =1\n",
    "    for i in range(1,x+1):\n",
    "        fact = fact*i\n",
    "    return fact\n",
    "\n",
    "factorial(5)"
   ]
  },
  {
   "cell_type": "code",
   "execution_count": 9,
   "id": "44722c2e",
   "metadata": {},
   "outputs": [
    {
     "data": {
      "text/plain": [
       "1"
      ]
     },
     "execution_count": 9,
     "metadata": {},
     "output_type": "execute_result"
    }
   ],
   "source": [
    "factorial(0)"
   ]
  },
  {
   "cell_type": "markdown",
   "id": "e100a818",
   "metadata": {},
   "source": [
    "Sum of all natural numbers"
   ]
  },
  {
   "cell_type": "code",
   "execution_count": 14,
   "id": "60b76e5b",
   "metadata": {},
   "outputs": [
    {
     "data": {
      "text/plain": [
       "6"
      ]
     },
     "execution_count": 14,
     "metadata": {},
     "output_type": "execute_result"
    }
   ],
   "source": [
    "def sumnat(x):\n",
    "    sum = 0\n",
    "    for i in range(1,x+1):\n",
    "        sum += i\n",
    "    return sum\n",
    "sumnat(3)"
   ]
  },
  {
   "cell_type": "markdown",
   "id": "05ccc768",
   "metadata": {},
   "source": [
    "Lambda Function"
   ]
  },
  {
   "cell_type": "markdown",
   "id": "e927c2f7",
   "metadata": {},
   "source": [
    "Create a lambda function that adds 10 to the number passed as an arguement and print the result"
   ]
  },
  {
   "cell_type": "code",
   "execution_count": 16,
   "id": "768e9a39",
   "metadata": {},
   "outputs": [
    {
     "name": "stdout",
     "output_type": "stream",
     "text": [
      "15\n"
     ]
    }
   ],
   "source": [
    "x = lambda a : a+10\n",
    "print(x(5))"
   ]
  },
  {
   "cell_type": "markdown",
   "id": "9742e2d0",
   "metadata": {},
   "source": [
    "Create a lambda function that checks a number is even or odd"
   ]
  },
  {
   "cell_type": "code",
   "execution_count": 18,
   "id": "46758e90",
   "metadata": {},
   "outputs": [
    {
     "name": "stdout",
     "output_type": "stream",
     "text": [
      "even\n"
     ]
    }
   ],
   "source": [
    "x1 = lambda a1 : \"even\" if a1%2 == 0 else \"odd\"\n",
    "print(x1(10))"
   ]
  },
  {
   "cell_type": "markdown",
   "id": "41d7cc6b",
   "metadata": {},
   "source": [
    "Create a function that adds two integers"
   ]
  },
  {
   "cell_type": "code",
   "execution_count": 23,
   "id": "80d417ab",
   "metadata": {},
   "outputs": [
    {
     "name": "stdout",
     "output_type": "stream",
     "text": [
      "7\n"
     ]
    }
   ],
   "source": [
    "x2 = lambda a2, a3: a2+a3\n",
    "print(x2(3,4))"
   ]
  },
  {
   "cell_type": "code",
   "execution_count": null,
   "id": "63193252",
   "metadata": {},
   "outputs": [],
   "source": []
  }
 ],
 "metadata": {
  "kernelspec": {
   "display_name": "Python 3",
   "language": "python",
   "name": "python3"
  },
  "language_info": {
   "codemirror_mode": {
    "name": "ipython",
    "version": 3
   },
   "file_extension": ".py",
   "mimetype": "text/x-python",
   "name": "python",
   "nbconvert_exporter": "python",
   "pygments_lexer": "ipython3",
   "version": "3.12.2"
  }
 },
 "nbformat": 4,
 "nbformat_minor": 5
}
